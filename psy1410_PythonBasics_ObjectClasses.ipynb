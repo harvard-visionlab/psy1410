{
  "nbformat": 4,
  "nbformat_minor": 0,
  "metadata": {
    "colab": {
      "name": "psy1410_PythonBasics_ObjectClasses.ipynb",
      "private_outputs": true,
      "provenance": [],
      "collapsed_sections": [
        "gRGJ21Kzmt-9",
        "s4KS9z4snvLl",
        "Jl0l4HNrqnyT",
        "bTsb4YzgrUiq",
        "LS2kPbHLsHpK"
      ],
      "toc_visible": true,
      "authorship_tag": "ABX9TyMGO6H579+s10/aDC5JHhnr",
      "include_colab_link": true
    },
    "kernelspec": {
      "name": "python3",
      "display_name": "Python 3"
    }
  },
  "cells": [
    {
      "cell_type": "markdown",
      "metadata": {
        "id": "view-in-github",
        "colab_type": "text"
      },
      "source": [
        "<a href=\"https://colab.research.google.com/github/harvard-visionlab/psy1410/blob/master/psy1410_PythonBasics_ObjectClasses.ipynb\" target=\"_parent\"><img src=\"https://colab.research.google.com/assets/colab-badge.svg\" alt=\"Open In Colab\"/></a>"
      ]
    },
    {
      "cell_type": "markdown",
      "metadata": {
        "id": "gRGJ21Kzmt-9"
      },
      "source": [
        "## PSY1410 | Python Basics | Object Oriented Programming\n",
        "\n",
        "This lesson will cover object-oriented programming (OOP), and specifically introduce you to object classes"
      ]
    },
    {
      "cell_type": "markdown",
      "metadata": {
        "id": "05x7EsZ5m_V-"
      },
      "source": [
        "In Python, we use a \"class\" to define a type of object, it's attributes, and methods that apply to that object type.\n",
        "\n",
        "One built in class is the \"list\". "
      ]
    },
    {
      "cell_type": "code",
      "metadata": {
        "id": "sPDMtb3lmp7p"
      },
      "source": [
        "# we define a list with square brackets [...]\n",
        "my_list = [1,2,3,4]\n",
        "my_list"
      ],
      "execution_count": null,
      "outputs": []
    },
    {
      "cell_type": "code",
      "metadata": {
        "id": "FU91WnT7n2fp"
      },
      "source": [
        "type(my_list)"
      ],
      "execution_count": null,
      "outputs": []
    },
    {
      "cell_type": "code",
      "metadata": {
        "id": "U2rDRMsUnP7P"
      },
      "source": [
        "# type mylist. and the notebook will show you a list \n",
        "# of all available methods for your list\n",
        "# \"append\" is a built in method that allows you to \"add an item to a list\"\n",
        "my_list.append(5)\n",
        "my_list"
      ],
      "execution_count": null,
      "outputs": []
    },
    {
      "cell_type": "markdown",
      "metadata": {
        "id": "s4KS9z4snvLl"
      },
      "source": [
        "## Let's define a custom class"
      ]
    },
    {
      "cell_type": "code",
      "metadata": {
        "id": "cJ0z3xfhniLM"
      },
      "source": [
        "class Person():\n",
        "  pass"
      ],
      "execution_count": null,
      "outputs": []
    },
    {
      "cell_type": "code",
      "metadata": {
        "id": "5oVVCTJlnzAv"
      },
      "source": [
        "my_person = Person()"
      ],
      "execution_count": null,
      "outputs": []
    },
    {
      "cell_type": "code",
      "metadata": {
        "id": "cZl-ANmDn0l9"
      },
      "source": [
        "type(my_person)"
      ],
      "execution_count": null,
      "outputs": []
    },
    {
      "cell_type": "code",
      "metadata": {
        "id": "EWxSxsG_n1p3"
      },
      "source": [
        "# type \"my_person.\", and you'll see your class\n",
        "# has no attributes, and no methods!\n",
        "# my_person."
      ],
      "execution_count": null,
      "outputs": []
    },
    {
      "cell_type": "code",
      "metadata": {
        "id": "MWLJ0uwkoG6K"
      },
      "source": [
        "class Person():\n",
        "  def __init__(self, first_name):\n",
        "    self.first_name = first_name"
      ],
      "execution_count": null,
      "outputs": []
    },
    {
      "cell_type": "code",
      "metadata": {
        "id": "fhKSYP_DoRfN"
      },
      "source": [
        "my_person = Person()"
      ],
      "execution_count": null,
      "outputs": []
    },
    {
      "cell_type": "code",
      "metadata": {
        "id": "kwyg5as0oS1a"
      },
      "source": [
        "my_person = Person(first_name='George')"
      ],
      "execution_count": null,
      "outputs": []
    },
    {
      "cell_type": "code",
      "metadata": {
        "id": "-0suBXDWoXrH"
      },
      "source": [
        "my_person.first_name"
      ],
      "execution_count": null,
      "outputs": []
    },
    {
      "cell_type": "code",
      "metadata": {
        "id": "EyAuO2AmoY-i"
      },
      "source": [
        "class Person():\n",
        "  def __init__(self, first_name, last_name, age):\n",
        "    self.first_name = first_name\n",
        "    self.last_name = last_name\n",
        "    self.age = age"
      ],
      "execution_count": null,
      "outputs": []
    },
    {
      "cell_type": "code",
      "metadata": {
        "id": "JRRFCkyaohAl"
      },
      "source": [
        "my_person = Person(first_name='George',last_name='Alvarez', age=45)"
      ],
      "execution_count": null,
      "outputs": []
    },
    {
      "cell_type": "code",
      "metadata": {
        "id": "wJuCj653olz8"
      },
      "source": [
        "my_person.last_name"
      ],
      "execution_count": null,
      "outputs": []
    },
    {
      "cell_type": "code",
      "metadata": {
        "id": "VCUI-9TlonN-"
      },
      "source": [
        "class Person():\n",
        "  def __init__(self, first_name, last_name, age):\n",
        "    self.first_name = first_name\n",
        "    self.last_name = last_name\n",
        "    self.age = age\n",
        "\n",
        "  def full_name(self):\n",
        "    print(f\"{self.first_name} {self.last_name}\")"
      ],
      "execution_count": null,
      "outputs": []
    },
    {
      "cell_type": "code",
      "metadata": {
        "id": "DAUob6Jko0-I"
      },
      "source": [
        "my_person = Person(first_name='George',last_name='Alvarez', age=45)"
      ],
      "execution_count": null,
      "outputs": []
    },
    {
      "cell_type": "code",
      "metadata": {
        "id": "1RDMiujyo2Nt"
      },
      "source": [
        "my_person.full_name"
      ],
      "execution_count": null,
      "outputs": []
    },
    {
      "cell_type": "code",
      "metadata": {
        "id": "Irm-9Trwo4Rb"
      },
      "source": [
        "my_person.full_name()"
      ],
      "execution_count": null,
      "outputs": []
    },
    {
      "cell_type": "markdown",
      "metadata": {
        "id": "BxdDfhkipDaG"
      },
      "source": [
        "## Inheritance\n",
        "\n",
        "Inheritance is when you have a \"parent\" class, but you have \"child\" classes that will \"inherit\" all of the parent's attributes and methods, and maybe add some of their own."
      ]
    },
    {
      "cell_type": "code",
      "metadata": {
        "id": "u60tzx6Co5ws"
      },
      "source": [
        "class Person():\n",
        "  def __init__(self, first_name, last_name, age):\n",
        "    self.first_name = first_name\n",
        "    self.last_name = last_name\n",
        "    self.age = age\n",
        "\n",
        "  def full_name(self,):\n",
        "    print(f\"{self.first_name} {self.last_name}\")\n",
        "\n",
        "class Student(Person):\n",
        "  def __init__(self, first_name, last_name, age):\n",
        "    Person.__init__(self, first_name, last_name, age)"
      ],
      "execution_count": null,
      "outputs": []
    },
    {
      "cell_type": "code",
      "metadata": {
        "id": "imcBNNREpdQs"
      },
      "source": [
        "my_student = Student(first_name='James',last_name='Franco',age=33)\n",
        "my_student"
      ],
      "execution_count": null,
      "outputs": []
    },
    {
      "cell_type": "code",
      "metadata": {
        "id": "XuRlI4_4pmJV"
      },
      "source": [
        "my_student.full_name()"
      ],
      "execution_count": null,
      "outputs": []
    },
    {
      "cell_type": "markdown",
      "metadata": {
        "id": "Jl0l4HNrqnyT"
      },
      "source": [
        "### let's extend our student class to have properties and methods that go beyond the parent"
      ]
    },
    {
      "cell_type": "code",
      "metadata": {
        "id": "UlMaI383qmKa"
      },
      "source": [
        "class Student(Person):\n",
        "  def __init__(self, first_name, last_name, age, major):\n",
        "    Person.__init__(self, first_name, last_name, age)\n",
        "    self.major = major\n",
        "\n",
        "  # let's override the \"full_name\" to add the students \"major\"\n",
        "  def full_name(self,):\n",
        "    print(f\"{self.first_name} {self.last_name} ({self.major})\")  \n",
        "\n",
        "  # let's add a new method, unique to the student subclass\n",
        "  def message(self):\n",
        "    print(\"I am a student!\")"
      ],
      "execution_count": null,
      "outputs": []
    },
    {
      "cell_type": "code",
      "metadata": {
        "id": "qSTMqBFfqft0"
      },
      "source": [
        "my_student = Student(first_name='James',last_name='Franco',age=33,major='Visual Arts')\n",
        "my_student"
      ],
      "execution_count": null,
      "outputs": []
    },
    {
      "cell_type": "code",
      "metadata": {
        "id": "e8TxdDb_q1LY"
      },
      "source": [
        "my_student.full_name()"
      ],
      "execution_count": null,
      "outputs": []
    },
    {
      "cell_type": "markdown",
      "metadata": {
        "id": "bTsb4YzgrUiq"
      },
      "source": [
        "### let's make a professor subclass"
      ]
    },
    {
      "cell_type": "code",
      "metadata": {
        "id": "SkU_MI6DrCZw"
      },
      "source": [
        "class Professor(Person):\n",
        "  def __init__(self, first_name, last_name, age, department):\n",
        "    Person.__init__(self, first_name, last_name, age)\n",
        "    self.department = department\n",
        "\n",
        "  # let's override the \"full_name\" to add the students \"department\"\n",
        "  def full_name(self,):\n",
        "    print(f\"{self.first_name} {self.last_name} ({self.department})\")  \n",
        "\n",
        "  # let's add a new method, unique to the student subclass\n",
        "  def message(self):\n",
        "    print(\"I am a professor!\")"
      ],
      "execution_count": null,
      "outputs": []
    },
    {
      "cell_type": "code",
      "metadata": {
        "id": "9swkKYFzrgxt"
      },
      "source": [
        "my_prof = Professor(first_name='George',last_name='Alvarez',age=45,department='Psychology')\n",
        "my_prof"
      ],
      "execution_count": null,
      "outputs": []
    },
    {
      "cell_type": "code",
      "metadata": {
        "id": "tdxCv4JUrn-Z"
      },
      "source": [
        "my_prof.full_name()"
      ],
      "execution_count": null,
      "outputs": []
    },
    {
      "cell_type": "markdown",
      "metadata": {
        "id": "LS2kPbHLsHpK"
      },
      "source": [
        "# Exercise 1\n",
        "\n",
        "Write a 'Circle' class that has one attribute: \"radius\", and two methods: \"get_circumference\", and \"get_area\"."
      ]
    },
    {
      "cell_type": "code",
      "metadata": {
        "id": "U4YZO6JOrqdT"
      },
      "source": [
        "import math\n",
        "\n",
        "# you might need this!\n",
        "math.pi"
      ],
      "execution_count": null,
      "outputs": []
    },
    {
      "cell_type": "markdown",
      "metadata": {
        "id": "yL62uU9es1_h"
      },
      "source": [
        "# Exercise 2\n",
        "\n",
        "Write a 'Line' class that has two sets of coordinates (x1,y1), (x2,y2) as attributes (you can call them coord1, and coord2), and has the following methods: \"get_distance\", \"get_slope\", and \"plot_line\".\n",
        "\n",
        "```\n",
        "#pseudo-code\n",
        "distance = sqrt( (x2-x1)**2 + (y2-y1)**2 )    \n",
        "slope = (y2-y1) / (x2-x1)\n",
        "```"
      ]
    },
    {
      "cell_type": "code",
      "metadata": {
        "id": "T1Rdc9ZPr_Ek"
      },
      "source": [
        "import matplotlib.pyplot as plt\n",
        "\n",
        "# quick example of how to draw a line\n",
        "xs = [1,2]\n",
        "ys = [3,4]\n",
        "ax = plt.plot(xs,ys);"
      ],
      "execution_count": null,
      "outputs": []
    },
    {
      "cell_type": "markdown",
      "metadata": {
        "id": "QcOj8IMzv_R7"
      },
      "source": [
        "## Special Methods\n",
        "\n",
        "There are some special methods that are built into python, and it's worth knowing about these. They are also sometimes called \"dunder methods\", because they are defined with double underscores. "
      ]
    },
    {
      "cell_type": "code",
      "metadata": {
        "id": "UWhjo1A1t_Qg"
      },
      "source": [
        "# define a list\n",
        "my_list = [1,2,3,4]\n",
        "\n",
        "# get the length of the list\n",
        "len(my_list)"
      ],
      "execution_count": null,
      "outputs": []
    },
    {
      "cell_type": "code",
      "metadata": {
        "id": "Gr3eSMUJw9sA"
      },
      "source": [
        "# define a book class\n",
        "class Book():\n",
        "  def __init__(self, title, author, pages):\n",
        "    self.title = title \n",
        "    self.author = author \n",
        "    self.pages = pages   "
      ],
      "execution_count": null,
      "outputs": []
    },
    {
      "cell_type": "code",
      "metadata": {
        "id": "FWF6JIY3wUqB"
      },
      "source": [
        "# define a person \n",
        "my_book = Book(title=\"How the Mind Works\", author=\"Pinker\", pages=350)\n",
        "\n",
        "# get the length of the book\n",
        "len(my_book)"
      ],
      "execution_count": null,
      "outputs": []
    },
    {
      "cell_type": "code",
      "metadata": {
        "id": "bUBZ8d7Wwio5"
      },
      "source": [
        "# define a book class\n",
        "class Book():\n",
        "  def __init__(self, title, author, pages):\n",
        "    self.title = title \n",
        "    self.author = author \n",
        "    self.pages = pages \n",
        "\n",
        "  def __len__(self):\n",
        "    return self.pages"
      ],
      "execution_count": null,
      "outputs": []
    },
    {
      "cell_type": "code",
      "metadata": {
        "id": "UrMXfYnLw3oI"
      },
      "source": [
        "# define a person \n",
        "my_book = Book(title=\"How the Mind Works\", author=\"Pinker\", pages=350)\n",
        "\n",
        "# get the length of the book\n",
        "len(my_book)"
      ],
      "execution_count": null,
      "outputs": []
    },
    {
      "cell_type": "code",
      "metadata": {
        "id": "oKbOa2BLxZxl"
      },
      "source": [
        "# What do we see when we \"print\" our \"my_book\" instance?\n",
        "print(my_book)"
      ],
      "execution_count": null,
      "outputs": []
    },
    {
      "cell_type": "code",
      "metadata": {
        "id": "N-ZW1gi1xe5X"
      },
      "source": [
        "# not very informative; what's going on?\n",
        "# the \"print\" function accesses an object's \"str\" representation\n",
        "str(my_book)"
      ],
      "execution_count": null,
      "outputs": []
    },
    {
      "cell_type": "code",
      "metadata": {
        "id": "bP4GdkhYxzT2"
      },
      "source": [
        "# let's make a more informative \"str\" representation for our Book class\n",
        "# define a book class\n",
        "class Book():\n",
        "  def __init__(self, title, author, pages):\n",
        "    self.title = title \n",
        "    self.author = author \n",
        "    self.pages = pages \n",
        "\n",
        "  def __len__(self):\n",
        "    return self.pages\n",
        "\n",
        "  def __str__(self):\n",
        "    return f'\"{self.title}\" by {self.author}'\n",
        "\n",
        "  # this is another method used\n",
        "  def __repr__(self):\n",
        "    return f'\"{self.title}\" by {self.author}'    "
      ],
      "execution_count": null,
      "outputs": []
    },
    {
      "cell_type": "code",
      "metadata": {
        "id": "CIIxQufkyAmR"
      },
      "source": [
        "# define a person \n",
        "my_book = Book(title=\"How the Mind Works\", author=\"Pinker\", pages=350)\n",
        "print(my_book)"
      ],
      "execution_count": null,
      "outputs": []
    },
    {
      "cell_type": "code",
      "metadata": {
        "id": "bscx7CdayGlV"
      },
      "source": [
        "# notice that \"notebooks\" automatically \"print\" the last variable of a cell,\n",
        "# but it uses the __repr__ method instead (not sure why)\n",
        "my_book"
      ],
      "execution_count": null,
      "outputs": []
    },
    {
      "cell_type": "markdown",
      "metadata": {
        "id": "O-xbpdYquatJ"
      },
      "source": [
        "## Classes used for Deep Learning"
      ]
    },
    {
      "cell_type": "markdown",
      "metadata": {
        "id": "pdzqxiiAynTS"
      },
      "source": [
        "## neural network Module class (nn.Module)"
      ]
    },
    {
      "cell_type": "code",
      "metadata": {
        "id": "6XSak5nwunsl"
      },
      "source": [
        "import torch\n",
        "import torch.nn as nn\n",
        "\n",
        "# notice the inheiritance\n",
        "# we're subclassing nn.Module, which means MyNet is a nn.Module!\n",
        "# that means we are going to get \"for free\" all of the powerful\n",
        "# methods that PyTorch has build for it's nn.Modules.\n",
        "class MyNet(nn.Module):\n",
        "  def __init__(self):\n",
        "    # this is another way of calling the init function of the parent class    \n",
        "    super(MyNet, self).__init__()\n",
        "\n",
        "    # Add a fully connected layer\n",
        "    # in_features = 784, because the input image is 1x28x28 = 784\n",
        "    # out_features = 10, because there are 10 output categories (digits 0-9)\n",
        "    self.fc = nn.Linear(in_features=784, out_features=10)\n",
        "  \n",
        "  # This \"forward\" method is used to implement the input/ouput\n",
        "  # operation of the model. You pass in input (x), process it through\n",
        "  # the neural network layers, and then return the output. \n",
        "  def forward(self, x):\n",
        "    # in the \"forward pass\", we take an input (a batch of images, x)\n",
        "    # then first we flatten it into batchSize x 784, \n",
        "    batchSize = x.shape[0] # first dimension of x is \"batchSize\"\n",
        "    x = x.view(batchSize, -1) # the -1 tells pytorch to flatten the tensor to be batchSize x \"whatever size fits\"\n",
        "\n",
        "    # finally, we pass the flattened input into our fully-connected layer \n",
        "    # which will compute the weighted sum of the input for each of the 10 \n",
        "    # categories\n",
        "    x = self.fc(x)\n",
        "\n",
        "    return x"
      ],
      "execution_count": null,
      "outputs": []
    },
    {
      "cell_type": "markdown",
      "metadata": {
        "id": "p-_gisk5yl-c"
      },
      "source": [
        "## Dataset Class\n",
        "\n"
      ]
    },
    {
      "cell_type": "code",
      "metadata": {
        "id": "8tXVXFF6ytEw"
      },
      "source": [
        "from torch.utils.data.dataset import Dataset"
      ],
      "execution_count": null,
      "outputs": []
    },
    {
      "cell_type": "code",
      "metadata": {
        "id": "83CmotpqzYX0"
      },
      "source": [
        "class MyDataset(Dataset):\n",
        "  def __init__(self, items):\n",
        "    self.items = items \n",
        "  \n",
        "  def __getitem__(self, index):\n",
        "    return self.items[index]\n",
        "\n",
        "  def __repr__(self):\n",
        "    lines = [f\"{self.__class__.__name__}\"]\n",
        "    lines += [f\"   num_items: {len(self.items)}\"]\n",
        "    return \"\\n\".join(lines)"
      ],
      "execution_count": null,
      "outputs": []
    },
    {
      "cell_type": "code",
      "metadata": {
        "id": "xtODE2W0zhsR"
      },
      "source": [
        "dataset = MyDataset(items=[1,2,3,4])\n",
        "dataset"
      ],
      "execution_count": null,
      "outputs": []
    },
    {
      "cell_type": "code",
      "metadata": {
        "id": "IfdF2zp0zi1J"
      },
      "source": [
        "dataset[2]"
      ],
      "execution_count": null,
      "outputs": []
    },
    {
      "cell_type": "code",
      "metadata": {
        "id": "wysfqJb00rPf"
      },
      "source": [
        "for item in dataset:\n",
        "  print(item)"
      ],
      "execution_count": null,
      "outputs": []
    },
    {
      "cell_type": "markdown",
      "metadata": {
        "id": "QEIqZBEn0m7j"
      },
      "source": [
        "## Exercise 3\n",
        "\n",
        "Write your own custom dataset class to create a dataset from a folder of images. Let's assume the folder is organized like so:\n",
        "\n",
        "```\n",
        "RootFolder/    \n",
        "  classA/    \n",
        "    imageA1.jpg    \n",
        "    imageA2.jpg    \n",
        "  classB/    \n",
        "    imageB1.jpg    \n",
        "    imageB2.jpg   \n",
        "``` \n",
        "\n",
        "Your class should work for any ImageFolder that has this organization. It shouldn't matter what the actual \"classA\" and \"classB\" folder names are, or how many there are (1000! for imagenet). And it shouldn't matter what the filenames are, or whether they are .jpg or .png, etc.\n",
        "\n",
        "You will debug your class with MNIST. And here's how you would create the training dataset with your image folder class:\n",
        "\n",
        "```\n",
        "  train_dataset = MyImageFolder('/path/to/MNIST/training')\n",
        "\n",
        "```"
      ]
    },
    {
      "cell_type": "code",
      "metadata": {
        "id": "lU3nF0Xi0U5j"
      },
      "source": [
        "!wget https://s3.amazonaws.com/fast-ai-imageclas/mnist_png.tgz"
      ],
      "execution_count": null,
      "outputs": []
    },
    {
      "cell_type": "code",
      "metadata": {
        "id": "FANe_oru1ZYG"
      },
      "source": [
        "!tar -xf mnist_png.tgz"
      ],
      "execution_count": null,
      "outputs": []
    },
    {
      "cell_type": "code",
      "metadata": {
        "id": "_flIDnZJ1-ID"
      },
      "source": [
        "# Stack overflow is your friend. Google:\n",
        "# \"stackoverflow how to get a list of folders in python\"\n",
        "\n",
        "# \"os\" package can be used to find folders/files in a directory\n",
        "import os  \n",
        "\n",
        "# \"Image\" can be used to open an image\n",
        "from PIL import Image "
      ],
      "execution_count": null,
      "outputs": []
    },
    {
      "cell_type": "code",
      "metadata": {
        "id": "tAo0kmkr23xK"
      },
      "source": [
        "ls"
      ],
      "execution_count": null,
      "outputs": []
    },
    {
      "cell_type": "code",
      "metadata": {
        "id": "fBke7eBN2b9d"
      },
      "source": [
        "img = Image.open('mnist_png/testing/0/10.png')\n",
        "img"
      ],
      "execution_count": null,
      "outputs": []
    },
    {
      "cell_type": "code",
      "metadata": {
        "id": "E1ZwZxuz28nb"
      },
      "source": [
        ""
      ],
      "execution_count": null,
      "outputs": []
    }
  ]
}