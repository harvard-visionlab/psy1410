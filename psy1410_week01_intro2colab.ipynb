{
  "nbformat": 4,
  "nbformat_minor": 0,
  "metadata": {
    "colab": {
      "name": "psy1410_week01_intro2colab.ipynb",
      "private_outputs": true,
      "provenance": [],
      "collapsed_sections": [
        "Zu_s_hyOjAMN",
        "1GO9ztm8jxqS",
        "ZForzqeYDjH8",
        "-L7jYBcvEHwD",
        "lJ3gK-_QgGIa",
        "h9QXm44QE9nC",
        "jGk124GKNt5J"
      ],
      "toc_visible": true,
      "authorship_tag": "ABX9TyMsrK8mgjFeQ6kpYAnoYSa7",
      "include_colab_link": true
    },
    "kernelspec": {
      "name": "python3",
      "display_name": "Python 3"
    }
  },
  "cells": [
    {
      "cell_type": "markdown",
      "metadata": {
        "id": "view-in-github",
        "colab_type": "text"
      },
      "source": [
        "<a href=\"https://colab.research.google.com/github/harvard-visionlab/psy1410/blob/master/psy1410_week01_intro2colab.ipynb\" target=\"_parent\"><img src=\"https://colab.research.google.com/assets/colab-badge.svg\" alt=\"Open In Colab\"/></a>"
      ]
    },
    {
      "cell_type": "markdown",
      "metadata": {
        "id": "AIhI2SkifMQW"
      },
      "source": [
        "PSY 1410 - Google Colab Notebooks\n",
        "\n",
        "We'll be using Google Colab for our deep learning workshops.\n",
        "\n",
        "Our goal for today is to familiarize ourselves with the colab python environment (If you are a very experienced programmer, your goal is to help teach your colleagues!).\n",
        "\n",
        "- the colab interface\n",
        "- the python programming language\n",
        "- data structures (variables, lists, tuples, dictionaries)\n",
        "- functions\n",
        "- classes\n",
        "- importing libraries (numpy, pytorch)\n",
        "- numpy arrays, torch tensors\n",
        "- array operations\n",
        "- indexing\n",
        "- pytorch datasets\n",
        "- download a collection of images (\"dataset\")\n",
        "- create a pytorch dataset\n",
        "- write a function to crop a random subset of an image\n",
        "- write a function to generate N crops of image A\n",
        "- write a function to generate N crops of each of a set of images...\n",
        "---\n",
        "\n"
      ]
    },
    {
      "cell_type": "markdown",
      "metadata": {
        "id": "OJoxXIi4fmxS"
      },
      "source": [
        "## variables and basic math operations\n",
        "\n",
        "When dealing with numbers, you can think of programming languages as basically big calculators, which provide you with some \"containers\" for holding numbers (scalers, lists, tuples), and some ways of performing \"mathematical operations\" on those numbers (add, subject, multiply, divide). \n",
        "\n",
        "When you have a variable that holds a single value, we call it a scaler."
      ]
    },
    {
      "cell_type": "code",
      "metadata": {
        "id": "VVM5EN8qfC7S"
      },
      "source": [
        "x = 1\n",
        "y = 2\n",
        "print(x, y)"
      ],
      "execution_count": null,
      "outputs": []
    },
    {
      "cell_type": "code",
      "metadata": {
        "id": "LEucS3sffRno"
      },
      "source": [
        "z = x + y \n",
        "print(z)"
      ],
      "execution_count": null,
      "outputs": []
    },
    {
      "cell_type": "markdown",
      "metadata": {
        "id": "RFcgYZ3igz7D"
      },
      "source": [
        "## lists\n",
        "\n",
        "A list is a way of storing a set of values, and has some handy built in methods."
      ]
    },
    {
      "cell_type": "code",
      "metadata": {
        "id": "CHGdW_IRfh2N"
      },
      "source": [
        "a = [1, 2, 3, 4, 5]\n",
        "print(a)"
      ],
      "execution_count": null,
      "outputs": []
    },
    {
      "cell_type": "code",
      "metadata": {
        "id": "2RjDUaA7g4l_"
      },
      "source": [
        "len(a)"
      ],
      "execution_count": null,
      "outputs": []
    },
    {
      "cell_type": "code",
      "metadata": {
        "id": "Z_YX2r2hg9zQ"
      },
      "source": [
        "min(a)"
      ],
      "execution_count": null,
      "outputs": []
    },
    {
      "cell_type": "code",
      "metadata": {
        "id": "LsA6mTO87iw3"
      },
      "source": [
        "a = ['a','b','c','d','e']\n",
        "a"
      ],
      "execution_count": null,
      "outputs": []
    },
    {
      "cell_type": "code",
      "metadata": {
        "id": "z5aaj4Ca7m-X"
      },
      "source": [
        "a[3] = 7\n",
        "a"
      ],
      "execution_count": null,
      "outputs": []
    },
    {
      "cell_type": "code",
      "metadata": {
        "id": "4DGQthN58NNt"
      },
      "source": [
        "a = []"
      ],
      "execution_count": null,
      "outputs": []
    },
    {
      "cell_type": "code",
      "metadata": {
        "id": "YeUcaXo08OwV"
      },
      "source": [
        "a.append(1)\n",
        "a"
      ],
      "execution_count": null,
      "outputs": []
    },
    {
      "cell_type": "code",
      "metadata": {
        "id": "QI9NgJCs8V2L"
      },
      "source": [
        "a.append(2)\n",
        "a"
      ],
      "execution_count": null,
      "outputs": []
    },
    {
      "cell_type": "code",
      "metadata": {
        "id": "jshvYEco8bcb"
      },
      "source": [
        "len(a)"
      ],
      "execution_count": null,
      "outputs": []
    },
    {
      "cell_type": "code",
      "metadata": {
        "id": "NtkvaPA_8f6E"
      },
      "source": [
        "a.index(1)"
      ],
      "execution_count": null,
      "outputs": []
    },
    {
      "cell_type": "markdown",
      "metadata": {
        "id": "2qNaB3Q21pCp"
      },
      "source": [
        "## tuples\n",
        "\n",
        "A tuple is similar to a list, except it is immutable (explained below). You often see tuples used when you are storing collections of values that you want to iterate over."
      ]
    },
    {
      "cell_type": "code",
      "metadata": {
        "id": "awhuXI1u1qP3"
      },
      "source": [
        "t = (1,2,3,4,5)\n",
        "print(type(t))\n",
        "print(t)"
      ],
      "execution_count": null,
      "outputs": []
    },
    {
      "cell_type": "markdown",
      "metadata": {
        "id": "0pquWEW42JU4"
      },
      "source": [
        "main difference from list is immutability"
      ]
    },
    {
      "cell_type": "code",
      "metadata": {
        "id": "VOOY-a4h2Isn"
      },
      "source": [
        "t[1] = 7"
      ],
      "execution_count": null,
      "outputs": []
    },
    {
      "cell_type": "code",
      "metadata": {
        "id": "UFz3sDUi8zrQ"
      },
      "source": [
        "# a list of tuples!\n",
        "data = [('George', 44), ('Tom', 42)]\n",
        "data"
      ],
      "execution_count": null,
      "outputs": []
    },
    {
      "cell_type": "code",
      "metadata": {
        "id": "4BQ6uJXd9E-L"
      },
      "source": [
        "data[0]"
      ],
      "execution_count": null,
      "outputs": []
    },
    {
      "cell_type": "code",
      "metadata": {
        "id": "3ScT0WIU9Gsx"
      },
      "source": [
        "name,age = data[0]\n",
        "print(name, age)"
      ],
      "execution_count": null,
      "outputs": []
    },
    {
      "cell_type": "code",
      "metadata": {
        "id": "xd37amyh83qs"
      },
      "source": [
        "for name,age in data:\n",
        "  print(name, age)"
      ],
      "execution_count": null,
      "outputs": []
    },
    {
      "cell_type": "code",
      "metadata": {
        "id": "zkAP5oTS9L4B"
      },
      "source": [
        "for person_number,(name,age) in enumerate(data):\n",
        "  print(person_number, name, age)"
      ],
      "execution_count": null,
      "outputs": []
    },
    {
      "cell_type": "markdown",
      "metadata": {
        "id": "0XC9h1JWhAoR"
      },
      "source": [
        "## dictionaries\n",
        "\n",
        "A dictionary is a \"name\" => \"value\" data structure."
      ]
    },
    {
      "cell_type": "code",
      "metadata": {
        "id": "lplX6iszhDqd"
      },
      "source": [
        "ages = {\n",
        "    \"George\": 45,\n",
        "    \"Tom\": 42\n",
        "}\n",
        "print(ages)"
      ],
      "execution_count": null,
      "outputs": []
    },
    {
      "cell_type": "code",
      "metadata": {
        "id": "JUFmfqOIhNS-"
      },
      "source": [
        "ages['George']"
      ],
      "execution_count": null,
      "outputs": []
    },
    {
      "cell_type": "code",
      "metadata": {
        "id": "hvwDMD5NhPFH"
      },
      "source": [
        "ages['Billy']"
      ],
      "execution_count": null,
      "outputs": []
    },
    {
      "cell_type": "code",
      "metadata": {
        "id": "kB6A8SS49jeB"
      },
      "source": [
        "for name,age in ages.items():\n",
        "  print(name, age)"
      ],
      "execution_count": null,
      "outputs": []
    },
    {
      "cell_type": "code",
      "metadata": {
        "id": "dK7SkglW9odr"
      },
      "source": [
        "for person_num, (name,age) in enumerate(ages.items()):\n",
        "  print(person_num, name, age)"
      ],
      "execution_count": null,
      "outputs": []
    },
    {
      "cell_type": "markdown",
      "metadata": {
        "id": "dqzAuBJriHdI"
      },
      "source": [
        "## functions\n",
        "\n",
        "A function takes some input, usually performs an operation on that input, and returns an output. "
      ]
    },
    {
      "cell_type": "code",
      "metadata": {
        "id": "2hk5o0rciJiu"
      },
      "source": [
        "def add(x,y):\n",
        "  return x+y "
      ],
      "execution_count": null,
      "outputs": []
    },
    {
      "cell_type": "code",
      "metadata": {
        "id": "AY1V2ZQ1iQ-2"
      },
      "source": [
        "add(1,2)"
      ],
      "execution_count": null,
      "outputs": []
    },
    {
      "cell_type": "code",
      "metadata": {
        "id": "94M104RmiUL7"
      },
      "source": [
        "def my_function(x,y,operation='add'):\n",
        "  if operation == 'add':\n",
        "    return x+y \n",
        "  elif operation == 'multiply':\n",
        "    return x*y \n",
        "  else:\n",
        "    raise ValueError(f'operation must be `add` or `multiply`, got {operation}')"
      ],
      "execution_count": null,
      "outputs": []
    },
    {
      "cell_type": "code",
      "metadata": {
        "id": "H-nTBSmLinNb"
      },
      "source": [
        "my_function(1,2,operation='add')"
      ],
      "execution_count": null,
      "outputs": []
    },
    {
      "cell_type": "markdown",
      "metadata": {
        "id": "hE5WP6wz0eeq"
      },
      "source": [
        "## classes\n",
        "\n",
        "Python is an object-oriented language, and a Class is a way of defining a kind of \"Object\", which will have a set of properties you choose, and a set of functions you define, referred to as \"methods\"."
      ]
    },
    {
      "cell_type": "code",
      "metadata": {
        "id": "JuWzw-uC1EX8"
      },
      "source": [
        "class Person(object):\n",
        "  def __init__(self, name, age):\n",
        "    self.name = name \n",
        "    self.age = age \n",
        "  \n",
        "  def hello(self):\n",
        "    print(f\"Hello, my name is {self.name}\")"
      ],
      "execution_count": null,
      "outputs": []
    },
    {
      "cell_type": "code",
      "metadata": {
        "id": "bJyVX0pF1dVt"
      },
      "source": [
        "p1 = Person(name=\"George\", age=45)\n",
        "p1"
      ],
      "execution_count": null,
      "outputs": []
    },
    {
      "cell_type": "code",
      "metadata": {
        "id": "eqD2Kagx1h_u"
      },
      "source": [
        "p1.name, p1.age"
      ],
      "execution_count": null,
      "outputs": []
    },
    {
      "cell_type": "code",
      "metadata": {
        "id": "dZ0wZr_62Uy4"
      },
      "source": [
        "p1.hello()"
      ],
      "execution_count": null,
      "outputs": []
    },
    {
      "cell_type": "markdown",
      "metadata": {
        "id": "XgApISrChbwr"
      },
      "source": [
        "## imports\n",
        "\n",
        "There are some python primitives that are built in and that you do not have to import (like min, and max). There are also very usful python libraries that you must import to use (like numpy, pandas, PyTorch, Tensorflow, etc.)"
      ]
    },
    {
      "cell_type": "code",
      "metadata": {
        "id": "fPyHIUHRhgMr"
      },
      "source": [
        "import numpy as np"
      ],
      "execution_count": null,
      "outputs": []
    },
    {
      "cell_type": "markdown",
      "metadata": {
        "id": "aqAYUv-Zfs2r"
      },
      "source": [
        ""
      ]
    },
    {
      "cell_type": "code",
      "metadata": {
        "id": "obyZGcH5haJh"
      },
      "source": [
        "a = np.array([1,2,3,4,5])\n",
        "a"
      ],
      "execution_count": null,
      "outputs": []
    },
    {
      "cell_type": "code",
      "metadata": {
        "id": "Or3d8U7nhnSB"
      },
      "source": [
        "a*2"
      ],
      "execution_count": null,
      "outputs": []
    },
    {
      "cell_type": "code",
      "metadata": {
        "id": "khPUjWWmhoTA"
      },
      "source": [
        "a = [1,2,3,4,5]\n",
        "a*2"
      ],
      "execution_count": null,
      "outputs": []
    },
    {
      "cell_type": "code",
      "metadata": {
        "id": "5WHxQxCxhq0l"
      },
      "source": [
        "a = np.array([1,2,3,4,5])\n",
        "a"
      ],
      "execution_count": null,
      "outputs": []
    },
    {
      "cell_type": "code",
      "metadata": {
        "id": "uTQz4VuS5Whc"
      },
      "source": [
        "a[2]"
      ],
      "execution_count": null,
      "outputs": []
    },
    {
      "cell_type": "markdown",
      "metadata": {
        "id": "Zu_s_hyOjAMN"
      },
      "source": [
        "## PyTorch: Facebook's Deep Learning Framework/Library\n",
        "\n",
        "- https://pytorch.org/\n",
        "- https://pytorch.org/tutorials/\n",
        "\n",
        "- is a deep learning library\n",
        "- It allows you to perform numerical operations on arrays using a GPU to leverage the massively parallel computing cababilities of the GPU.\n",
        "- Here you will learn to create tensors \n",
        "- perform indexing and selection on tensors\n",
        "- perform general operations on tensors"
      ]
    },
    {
      "cell_type": "code",
      "metadata": {
        "id": "XmTy55Nxi2-j"
      },
      "source": [
        "import torch \n",
        "from torchvision import models"
      ],
      "execution_count": null,
      "outputs": []
    },
    {
      "cell_type": "code",
      "metadata": {
        "id": "CqJaedVIjGEr"
      },
      "source": [
        "a = torch.tensor([1.,2.,3.,4.,5.])\n",
        "a"
      ],
      "execution_count": null,
      "outputs": []
    },
    {
      "cell_type": "code",
      "metadata": {
        "id": "1IVG9GDFjKpP"
      },
      "source": [
        "a*2"
      ],
      "execution_count": null,
      "outputs": []
    },
    {
      "cell_type": "code",
      "metadata": {
        "id": "AO1eFttcjLh9"
      },
      "source": [
        "model = models.alexnet(pretrained=True)\n",
        "model"
      ],
      "execution_count": null,
      "outputs": []
    },
    {
      "cell_type": "code",
      "metadata": {
        "id": "KtTsHiMejPbB"
      },
      "source": [
        ""
      ],
      "execution_count": null,
      "outputs": []
    },
    {
      "cell_type": "markdown",
      "metadata": {
        "id": "1GO9ztm8jxqS"
      },
      "source": [
        "## PyTorch \n"
      ]
    },
    {
      "cell_type": "code",
      "metadata": {
        "id": "IcY8ujfXkLr7"
      },
      "source": [
        "import torch "
      ],
      "execution_count": null,
      "outputs": []
    },
    {
      "cell_type": "code",
      "metadata": {
        "id": "ixv1S0TlkTXf"
      },
      "source": [
        "mylist = [1,2,3]"
      ],
      "execution_count": null,
      "outputs": []
    },
    {
      "cell_type": "code",
      "metadata": {
        "id": "Jae7Ou3pkZJL"
      },
      "source": [
        "type(mylist)"
      ],
      "execution_count": null,
      "outputs": []
    },
    {
      "cell_type": "code",
      "metadata": {
        "id": "j0wF40oVkZ6v"
      },
      "source": [
        "tensor = torch.tensor(mylist)\n",
        "tensor "
      ],
      "execution_count": null,
      "outputs": []
    },
    {
      "cell_type": "code",
      "metadata": {
        "id": "mm1646NVkgPC"
      },
      "source": [
        "mylist = [[1,2,3],[4,5,6],[7,8,9]]\n",
        "mylist "
      ],
      "execution_count": null,
      "outputs": []
    },
    {
      "cell_type": "code",
      "metadata": {
        "id": "0XohsLQspBGo"
      },
      "source": [
        "tensor = torch.tensor(mylist)\n",
        "tensor"
      ],
      "execution_count": null,
      "outputs": []
    },
    {
      "cell_type": "code",
      "metadata": {
        "id": "0JaSBNChpD0b"
      },
      "source": [
        "tensor.shape"
      ],
      "execution_count": null,
      "outputs": []
    },
    {
      "cell_type": "code",
      "metadata": {
        "id": "ov7AWPA2pFDS"
      },
      "source": [
        "torch.arange(0,10,1)"
      ],
      "execution_count": null,
      "outputs": []
    },
    {
      "cell_type": "code",
      "metadata": {
        "id": "jb-vCvDSp8Ti"
      },
      "source": [
        "torch.zeros(5,5)"
      ],
      "execution_count": null,
      "outputs": []
    },
    {
      "cell_type": "code",
      "metadata": {
        "id": "8r9UsyV5qPLY"
      },
      "source": [
        "torch.ones(5,5) + 4"
      ],
      "execution_count": null,
      "outputs": []
    },
    {
      "cell_type": "code",
      "metadata": {
        "id": "6x05A2kUrOpl"
      },
      "source": [
        "torch.ones(5,5) / 10"
      ],
      "execution_count": null,
      "outputs": []
    },
    {
      "cell_type": "code",
      "metadata": {
        "id": "87fN_2P7rVOy"
      },
      "source": [
        "torch.linspace(0,10,3)"
      ],
      "execution_count": null,
      "outputs": []
    },
    {
      "cell_type": "code",
      "metadata": {
        "id": "hlHNLt_NrbL0"
      },
      "source": [
        "torch.linspace(0,10,20)"
      ],
      "execution_count": null,
      "outputs": []
    },
    {
      "cell_type": "code",
      "metadata": {
        "id": "ZHZ7ZrCXreG5"
      },
      "source": [
        "torch.rand(5,5)"
      ],
      "execution_count": null,
      "outputs": []
    },
    {
      "cell_type": "code",
      "metadata": {
        "id": "ogqWKwD2ruW-"
      },
      "source": [
        "torch.rand?"
      ],
      "execution_count": null,
      "outputs": []
    },
    {
      "cell_type": "markdown",
      "metadata": {
        "id": "Zm10AoJlynDg"
      },
      "source": [
        "## download an image dataset \n",
        "- https://course.fast.ai/datasets#image-classification\n"
      ]
    },
    {
      "cell_type": "code",
      "metadata": {
        "id": "ttaupAsIyLi4"
      },
      "source": [
        "!wget https://s3.amazonaws.com/fast-ai-imageclas/imagewoof-320.tgz "
      ],
      "execution_count": null,
      "outputs": []
    },
    {
      "cell_type": "code",
      "metadata": {
        "id": "F-AvjDtSyyPD"
      },
      "source": [
        "!tar -xf /content/imagewoof-320.tgz"
      ],
      "execution_count": null,
      "outputs": []
    },
    {
      "cell_type": "code",
      "metadata": {
        "id": "oF0OHFKCzcqk"
      },
      "source": [
        "!rm /content/imagewoof-320.tgz"
      ],
      "execution_count": null,
      "outputs": []
    },
    {
      "cell_type": "code",
      "metadata": {
        "id": "kyionj0X2zzi"
      },
      "source": [
        "!mkdir /content/data"
      ],
      "execution_count": null,
      "outputs": []
    },
    {
      "cell_type": "code",
      "metadata": {
        "id": "tbZpImV7y5bp"
      },
      "source": [
        "!mv /content/imagewoof-320 /content/data/imagewoof-320"
      ],
      "execution_count": null,
      "outputs": []
    },
    {
      "cell_type": "markdown",
      "metadata": {
        "id": "ZForzqeYDjH8"
      },
      "source": [
        "## Use torchvision to load a dataset"
      ]
    },
    {
      "cell_type": "code",
      "metadata": {
        "id": "QNauwXmvDmT0"
      },
      "source": [
        "import torchvision"
      ],
      "execution_count": null,
      "outputs": []
    },
    {
      "cell_type": "code",
      "metadata": {
        "id": "z_kFoIltzPTI"
      },
      "source": [
        "dataset = torchvision.datasets.ImageFolder('/content/data/imagewoof-320/train')\n",
        "dataset"
      ],
      "execution_count": null,
      "outputs": []
    },
    {
      "cell_type": "code",
      "metadata": {
        "id": "SJ8_bF8N0I47"
      },
      "source": [
        "img, label = dataset[0]"
      ],
      "execution_count": null,
      "outputs": []
    },
    {
      "cell_type": "code",
      "metadata": {
        "id": "pca53KFE0PWt"
      },
      "source": [
        "print(label)\n",
        "img"
      ],
      "execution_count": null,
      "outputs": []
    },
    {
      "cell_type": "markdown",
      "metadata": {
        "id": "-L7jYBcvEHwD"
      },
      "source": [
        "## Understanding Image Data\n",
        "\n",
        "- height, width, number of channels (HxWxC)\n",
        "- rgb images are HxWx3 (red,green,blue)"
      ]
    },
    {
      "cell_type": "code",
      "metadata": {
        "id": "QMmmaN5xfEeK"
      },
      "source": [
        "from PIL import Image\n",
        "import numpy as np"
      ],
      "execution_count": null,
      "outputs": []
    },
    {
      "cell_type": "code",
      "metadata": {
        "id": "P9MrU2xmfG8N"
      },
      "source": [
        "filename = dataset.imgs[0][0]\n",
        "filename"
      ],
      "execution_count": null,
      "outputs": []
    },
    {
      "cell_type": "code",
      "metadata": {
        "id": "b2NZE1mSfa59"
      },
      "source": [
        "img = Image.open(filename)\n",
        "img"
      ],
      "execution_count": null,
      "outputs": []
    },
    {
      "cell_type": "code",
      "metadata": {
        "id": "LPKrTUpJfwVL"
      },
      "source": [
        "type(img)"
      ],
      "execution_count": null,
      "outputs": []
    },
    {
      "cell_type": "code",
      "metadata": {
        "id": "51EiAa2j0SK2"
      },
      "source": [
        "img = np.array(img)\n",
        "img.shape"
      ],
      "execution_count": null,
      "outputs": []
    },
    {
      "cell_type": "code",
      "metadata": {
        "id": "RsS-vRvlf9oX"
      },
      "source": [
        "img"
      ],
      "execution_count": null,
      "outputs": []
    },
    {
      "cell_type": "code",
      "metadata": {
        "id": "fw8feH7n2nNW"
      },
      "source": [
        "crop = img[0:240,0:240,:]\n",
        "crop.shape"
      ],
      "execution_count": null,
      "outputs": []
    },
    {
      "cell_type": "code",
      "metadata": {
        "id": "0TRRKcZv23Ns"
      },
      "source": [
        "Image.fromarray(crop)"
      ],
      "execution_count": null,
      "outputs": []
    },
    {
      "cell_type": "code",
      "metadata": {
        "id": "lJmNQOlqQpS1"
      },
      "source": [
        "crop = img[50:150,0:240,:]\n",
        "Image.fromarray(crop)"
      ],
      "execution_count": null,
      "outputs": []
    },
    {
      "cell_type": "markdown",
      "metadata": {
        "id": "lJ3gK-_QgGIa"
      },
      "source": [
        "## Exercise 1 - write the following helper functions to convert images from PIL to np.array (and back), and to crop an array. Use your function to crop around the dog's head/face.\n",
        "\n",
        "```\n",
        "def to_array(pil_image):\n",
        "  return ...\n",
        "\n",
        "def to_image(array):\n",
        "  return ...\n",
        "  \n",
        "def crop(array, start_row, end_row, start_col, end_col):  \n",
        "  return ...\n",
        "\n",
        "```"
      ]
    },
    {
      "cell_type": "code",
      "metadata": {
        "id": "4BA5Ggkdg4P6"
      },
      "source": [
        "def crop(array, start_row, end_row, start_col, end_col):\n",
        "  return\n",
        "\n",
        "def to_array(pil_image):\n",
        "  return\n",
        "\n",
        "def to_image(array):\n",
        "  return"
      ],
      "execution_count": null,
      "outputs": []
    },
    {
      "cell_type": "markdown",
      "metadata": {
        "id": "h9QXm44QE9nC"
      },
      "source": [
        "## Exercise 2 \n",
        "Write a function that creates a random crop of a given height,width. \n",
        "```\n",
        "\n",
        "def random_crop(img, height, width):\n",
        "  # convert PIL img to an array\n",
        "\n",
        "  # figure out the crop boundaries\n",
        "  # the crop is defined by start/end row, start/end col\n",
        "  # make sure to choose starting/ending positions that\n",
        "  # are within the image boundaries!\n",
        "  start_row = ...\n",
        "  end_row = ...\n",
        "  start_col = ...\n",
        "  end_col = ...\n",
        "\n",
        "  # perform the crop using our crop function\n",
        "\n",
        "  # return a pil image so we can show it as an image\n",
        "\n",
        "  return \n",
        "\n",
        "```\n"
      ]
    },
    {
      "cell_type": "code",
      "metadata": {
        "id": "VxAJjwcnJnhB"
      },
      "source": [
        "def random_crop(img, crop_height, crop_width):\n",
        "\n",
        "  return "
      ],
      "execution_count": null,
      "outputs": []
    },
    {
      "cell_type": "code",
      "metadata": {
        "id": "HgijacVbJono"
      },
      "source": [
        "img, label = dataset[0]"
      ],
      "execution_count": null,
      "outputs": []
    },
    {
      "cell_type": "code",
      "metadata": {
        "id": "QUcMAMlCLJEu"
      },
      "source": [
        "cropped = crop(to_array(img), 40, 280, 0, 280)\n",
        "to_image(cropped)"
      ],
      "execution_count": null,
      "outputs": []
    },
    {
      "cell_type": "code",
      "metadata": {
        "id": "bdCdd15KLNYl"
      },
      "source": [
        "random_crop(img, 200, 200)"
      ],
      "execution_count": null,
      "outputs": []
    },
    {
      "cell_type": "code",
      "metadata": {
        "id": "rKFKz_9UM8-E"
      },
      "source": [
        ""
      ],
      "execution_count": null,
      "outputs": []
    },
    {
      "cell_type": "markdown",
      "metadata": {
        "id": "jGk124GKNt5J"
      },
      "source": [
        "# Exercise 3 \n",
        "Write a function that performs 5 random crops, and visualizes them all as a grid of images. Hint, np.concatenate can be used to combine arrays along a chosen axis.\n",
        "\n",
        "```\n",
        "  def show_grid(img, n_crops=5):\n",
        "    crops = []\n",
        "    for crop_num in range(n_crops):\n",
        "      ...\n",
        "\n",
        "    \n",
        "\n",
        "```"
      ]
    },
    {
      "cell_type": "code",
      "metadata": {
        "id": "iBufy7azOHlm"
      },
      "source": [
        "def show_grid(img, n_crops=5, crop_height=200, crop_width=200):\n",
        "  '''performs `n_crops` on `img`, returns as a 1xN grid'''\n",
        "  return"
      ],
      "execution_count": null,
      "outputs": []
    },
    {
      "cell_type": "code",
      "metadata": {
        "id": "Jx5qvoWpOSwj"
      },
      "source": [
        "img, label = dataset[0]\n",
        "show_grid(img)"
      ],
      "execution_count": null,
      "outputs": []
    },
    {
      "cell_type": "code",
      "metadata": {
        "id": "ICabZQ8rOe8Z"
      },
      "source": [
        ""
      ],
      "execution_count": null,
      "outputs": []
    }
  ]
}